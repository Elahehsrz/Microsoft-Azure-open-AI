{
  "cells": [
    {
      "cell_type": "markdown",
      "metadata": {
        "id": "BkrH16TtGYPr"
      },
      "source": [
        "## Comments"
      ]
    },
    {
      "cell_type": "markdown",
      "metadata": {
        "id": "6-y-LsarGYP0"
      },
      "source": [
        "### Requirements for the data:\n",
        "* Include prompts in 'prompt' column.\n",
        "* Data have empty 'date' and 'Output' columns.\n",
        "* Include an env. file with 'ENDPOINT', 'KEY', 'DEPLOYMENT_NAME' and 'MODEL_PREVIE' variables from recent a deployment model.\n"
      ]
    },
    {
      "cell_type": "markdown",
      "metadata": {
        "id": "9I5NsqxPGYP2"
      },
      "source": [
        "## Libraries & Set up Azure OpenAI"
      ]
    },
    {
      "cell_type": "code",
      "execution_count": null,
      "metadata": {
        "id": "ltMt28hAGYP3"
      },
      "outputs": [],
      "source": [
        "import os\n",
        "import openai\n",
        "import numpy\n",
        "import matplotlib.pyplot as plt\n",
        "import pandas as pd\n",
        "from openai import AzureOpenAI\n",
        "import openpyxl\n",
        "import datetime\n",
        "import xlsxwriter"
      ]
    },
    {
      "cell_type": "code",
      "execution_count": null,
      "metadata": {
        "id": "NGQuXmKzGYP6"
      },
      "outputs": [],
      "source": [
        "endpoint = os.getenv(\"ENDPOINT\", default=None)\n",
        "key = os.getenv(\"KEY\", default=None)\n",
        "deployment_name = os.getenv(\"DEPLOYMENT_NAME\", default=None)\n",
        "model_preview = os.getenv(\"MODEL_PREVIEW\", default=None)"
      ]
    },
    {
      "cell_type": "code",
      "execution_count": null,
      "metadata": {
        "id": "8viN1tbxGYP8"
      },
      "outputs": [],
      "source": [
        "from dotenv import load_dotenv\n",
        "load_dotenv()\n",
        "client = AzureOpenAI(\n",
        "    api_key=key,\n",
        "    api_version=model_preview,\n",
        "    azure_endpoint = endpoint\n",
        "    )\n",
        "model=deployment_name"
      ]
    },
    {
      "cell_type": "markdown",
      "metadata": {
        "id": "C_zq9ol0GYP-"
      },
      "source": [
        "## Read prompts data"
      ]
    },
    {
      "cell_type": "code",
      "execution_count": null,
      "metadata": {
        "id": "0IIcivdyGYP_"
      },
      "outputs": [],
      "source": [
        "file_path = 'data/prompts.xlsx'\n",
        "save_filename = \"data/output.xlsx\""
      ]
    },
    {
      "cell_type": "code",
      "execution_count": null,
      "metadata": {
        "id": "n3cwMWeBGYQC"
      },
      "outputs": [],
      "source": [
        "def read_excel_file(file_path):\n",
        "    df_list = []\n",
        "    xls = pd.ExcelFile(file_path)\n",
        "    workbook = openpyxl.load_workbook(file_path)\n",
        "    page_names = workbook.sheetnames\n",
        "    for i in page_names:\n",
        "        sheet_df = pd.read_excel(xls, i)\n",
        "        df_list.append(sheet_df)\n",
        "    return page_names, df_list"
      ]
    },
    {
      "cell_type": "markdown",
      "metadata": {
        "id": "BKFP5Y7FGYQD"
      },
      "source": [
        "## Get outputs"
      ]
    },
    {
      "cell_type": "code",
      "execution_count": null,
      "metadata": {
        "id": "xItYd-u5GYQD"
      },
      "outputs": [],
      "source": [
        "def get_completion(model, prompt):\n",
        "    prompt = prompt\n",
        "    messages = [{\"role\": \"user\", \"content\": prompt}]\n",
        "    response = client.chat.completions.create(\n",
        "        model=model,\n",
        "        messages=messages,\n",
        "        temperature=0,\n",
        "    )\n",
        "    output = response.choices[0].message.content\n",
        "    return output"
      ]
    },
    {
      "cell_type": "code",
      "execution_count": null,
      "metadata": {
        "id": "5rEPsig9GYQE"
      },
      "outputs": [],
      "source": [
        "def get_output_column(df):\n",
        "    for row in df.itertuples():\n",
        "        prompt = str(row.prompt)\n",
        "        print(prompt)\n",
        "        output = get_completion(model, prompt).lstrip()\n",
        "        print(output)\n",
        "        df.at[row.Index, \"Output\"] = output\n",
        "    return df"
      ]
    },
    {
      "cell_type": "code",
      "execution_count": null,
      "metadata": {
        "id": "s-JWphwfGYQF"
      },
      "outputs": [],
      "source": [
        "def time_column(df):\n",
        "    current_date = datetime.date.today()\n",
        "    for row in df.itertuples():\n",
        "        df.at[row.Index, \"date\"] = current_date\n",
        "    return df"
      ]
    },
    {
      "cell_type": "markdown",
      "metadata": {
        "id": "Fz0lwsfJGYQG"
      },
      "source": [
        "### To get output for a specific page in excel"
      ]
    },
    {
      "cell_type": "code",
      "execution_count": null,
      "metadata": {
        "id": "8G577KeWGYQG"
      },
      "outputs": [],
      "source": [
        "def get_index_by_name(name, list):\n",
        "    try:\n",
        "        return list.index(name)\n",
        "    except ValueError:\n",
        "        return -1"
      ]
    },
    {
      "cell_type": "code",
      "execution_count": null,
      "metadata": {
        "id": "t1RgcKiQGYQG"
      },
      "outputs": [],
      "source": [
        "def get_dataframe_from_a_page(page_names, df, page_name):\n",
        "    index= get_index_by_name(page_name, page_names)\n",
        "    df = df[index]\n",
        "    return df"
      ]
    },
    {
      "cell_type": "code",
      "execution_count": null,
      "metadata": {
        "id": "EPFenJLPGYQH"
      },
      "outputs": [],
      "source": [
        "def save_df(df, output_file_name, page_name):\n",
        "    writer = pd.ExcelWriter(output_file_name, engine='xlsxwriter')\n",
        "    sheet_name = page_name\n",
        "    df.to_excel(writer, sheet_name=sheet_name, index=False)\n",
        "    writer.close()"
      ]
    },
    {
      "cell_type": "code",
      "execution_count": null,
      "metadata": {
        "id": "kJs2QUh2GYQH"
      },
      "outputs": [],
      "source": [
        "def get_output_dataset(page_names, df, output_file_name, page_name):\n",
        "    df = get_dataframe_from_a_page(page_names, df, page_name)\n",
        "    df= get_output_column(df)\n",
        "    df = time_column(df)\n",
        "    save_df(df, output_file_name, page_name)\n",
        "    return df"
      ]
    },
    {
      "cell_type": "markdown",
      "metadata": {
        "id": "fHVIfMXDGYQI"
      },
      "source": [
        "### To obtain outputs for all pages in excel"
      ]
    },
    {
      "cell_type": "code",
      "execution_count": null,
      "metadata": {
        "id": "OUhFvveaGYQI"
      },
      "outputs": [],
      "source": [
        "def get_output_dataset_for_list(file_path):\n",
        "    list_df_with_outputs = []\n",
        "    pages_names, df_list = read_excel_file(file_path)\n",
        "    for i in df_list:\n",
        "        print(\"i in the second\", i)\n",
        "        df= get_output_column(i)\n",
        "        df = time_column(i)\n",
        "        list_df_with_outputs.append(df)\n",
        "    return list_df_with_outputs"
      ]
    },
    {
      "cell_type": "code",
      "execution_count": null,
      "metadata": {
        "id": "x7RXkBbAGYQI"
      },
      "outputs": [],
      "source": [
        "def save_dfs_to_excel(file_path, output_file_name):\n",
        "    pages_names, df_list = read_excel_file(file_path)\n",
        "    list_df_with_outputs = get_output_dataset_for_list(file_path)\n",
        "    with pd.ExcelWriter(output_file_name, engine='xlsxwriter') as writer:\n",
        "        for df, name in zip(list_df_with_outputs, pages_names):\n",
        "            df.to_excel(writer, sheet_name=name, index=False)\n",
        "    writer.close()"
      ]
    },
    {
      "cell_type": "markdown",
      "metadata": {
        "id": "Zy2BMKl3GYQI"
      },
      "source": [
        "### Completions"
      ]
    },
    {
      "cell_type": "code",
      "execution_count": null,
      "metadata": {
        "id": "hfgeHr7YGYQJ"
      },
      "outputs": [],
      "source": [
        "page_names, df = read_excel_file(file_path2)\n",
        "df"
      ]
    },
    {
      "cell_type": "code",
      "execution_count": null,
      "metadata": {
        "id": "js2lec0lGYQK"
      },
      "outputs": [],
      "source": [
        "page_names"
      ]
    },
    {
      "cell_type": "code",
      "source": [
        "save_dfs_to_excel(file_path, output_file_name)"
      ],
      "metadata": {
        "id": "Kr3RK9AAIWxM"
      },
      "execution_count": null,
      "outputs": []
    }
  ],
  "metadata": {
    "kernelspec": {
      "display_name": "conda_venv",
      "language": "python",
      "name": "python3"
    },
    "language_info": {
      "codemirror_mode": {
        "name": "ipython",
        "version": 3
      },
      "file_extension": ".py",
      "mimetype": "text/x-python",
      "name": "python",
      "nbconvert_exporter": "python",
      "pygments_lexer": "ipython3",
      "version": "3.12.2"
    },
    "orig_nbformat": 4,
    "colab": {
      "provenance": []
    }
  },
  "nbformat": 4,
  "nbformat_minor": 0
}